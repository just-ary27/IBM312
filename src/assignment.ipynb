{
 "cells": [
  {
   "attachments": {},
   "cell_type": "markdown",
   "metadata": {},
   "source": [
    " # IBM 312 Group Assignment"
   ]
  },
  {
   "attachments": {},
   "cell_type": "markdown",
   "metadata": {},
   "source": [
    "### Importing libraries"
   ]
  },
  {
   "cell_type": "code",
   "execution_count": null,
   "metadata": {},
   "outputs": [],
   "source": [
    "import pandas as pd\n",
    "import numpy as np\n",
    "from sklearn.preprocessing import StandardScaler\n",
    "from sklearn.model_selection import train_test_split\n",
    "from sklearn.decomposition import PCA\n",
    "import re"
   ]
  },
  {
   "attachments": {},
   "cell_type": "markdown",
   "metadata": {},
   "source": [
    "### Importing the data"
   ]
  },
  {
   "cell_type": "code",
   "execution_count": null,
   "metadata": {},
   "outputs": [],
   "source": [
    "# headers = [\n",
    "#     \"code\",\t\n",
    "#     \"quantity\",\t\n",
    "#     \"brands_tags\",\t\n",
    "#     \"categories_en\",\t\n",
    "#     \"origins_en\",\t\n",
    "#     \"labels_en\",\t\n",
    "#     \"countries_en\",\t\n",
    "#     \"ingredients_tags\",\t\n",
    "#     \"ingredients_analysis_tags\",\t\n",
    "#     \"serving_quantity\",\t\n",
    "#     \"nutriscore_grade\",\t\n",
    "#     \"food_groups_en\",\t\n",
    "#     \"nutrient_levels_tags\",\t\n",
    "#     \"product_quantity\",\t\n",
    "#     \"main_category_en\", \n",
    "#     \"energy-kcal_100g\",\t\n",
    "#     \"nutrition-score-fr_100g\",\n",
    "# ]\n",
    "\n",
    "# datatypes = {\n",
    "#     \"code\":\"str\",\t\n",
    "#     \"quantity\":\"str\",\t\n",
    "#     \"brands_tags\":\"str\",\t\n",
    "#     \"categories_en\":\"str\",\t\n",
    "#     \"origins_en\":\"str\",\t\n",
    "#     \"labels_en\":\"str\",\t\n",
    "#     \"countries_en\":\"str\",\t\n",
    "#     \"ingredients_tags\":\"str\",\t\n",
    "#     \"ingredients_analysis_tags\":\"str\",\t\n",
    "#     \"serving_quantity\":\"str\",\t\n",
    "#     \"nutriscore_grade\":\"str\",\t\n",
    "#     \"food_groups_en\":\"str\",\n",
    "#     \"nutrient_levels_tags\":\"str\",\t\n",
    "#     \"product_quantity\":\"str\",\t\n",
    "#     \"main_category_en\":\"str\", \n",
    "#     \"energy-kcal_100g\":\"str\",\t\n",
    "#     \"nutrition-score-fr_100g\":\"str\",\n",
    "# }\n",
    "\n",
    "data = pd.read_csv(\n",
    "    \"../data/reduced_data.csv\",\n",
    "    # header=None,\n",
    "    # names=headers, \n",
    "    # dtype=datatypes,\n",
    ")\n",
    "\n",
    "data.shape"
   ]
  },
  {
   "attachments": {},
   "cell_type": "markdown",
   "metadata": {},
   "source": [
    "### Validating data"
   ]
  },
  {
   "cell_type": "code",
   "execution_count": null,
   "metadata": {},
   "outputs": [],
   "source": [
    "data.head(11)"
   ]
  },
  {
   "cell_type": "code",
   "execution_count": null,
   "metadata": {},
   "outputs": [],
   "source": [
    "data[\"serving_quantity\"] = data[\"serving_quantity\"].fillna(0.0)\n",
    "data[\"product_quantity\"] = data[\"product_quantity\"].fillna(0.0)\n",
    "data[\"energy-kcal_100g\"] = data[\"energy-kcal_100g\"].fillna(0.0)\n",
    "data[\"nutrition-score-fr_100g\"] = data[\"nutrition-score-fr_100g\"].fillna(0.0)\n",
    "data = data.fillna('')\n",
    "data = data.loc[data['nutriscore_grade'] != '']\n",
    "# data = data.loc[data['nutriscore_grade'] != '']\n",
    "# data = data.loc[data['nutriscore_grade'] != '']\n",
    "# data = data.loc[data['nutriscore_grade'] != '']\n",
    "data"
   ]
  },
  {
   "attachments": {},
   "cell_type": "markdown",
   "metadata": {},
   "source": [
    "### Preprocessing the data"
   ]
  },
  {
   "cell_type": "code",
   "execution_count": null,
   "metadata": {},
   "outputs": [],
   "source": [
    "x = data.drop(labels=[\"energy-kcal_100g\", \"code\"], axis=1)\n",
    "y = data[\"energy-kcal_100g\"]\n",
    "\n",
    "x[\"serving_quantity\"] = x[\"serving_quantity\"].astype(float)\n",
    "x[\"product_quantity\"] = x[\"product_quantity\"].astype(float)\n"
   ]
  },
  {
   "cell_type": "code",
   "execution_count": null,
   "metadata": {},
   "outputs": [],
   "source": [
    "x[\"nutrient_levels_tags\"].value_counts()"
   ]
  },
  {
   "cell_type": "code",
   "execution_count": null,
   "metadata": {},
   "outputs": [],
   "source": [
    "x[\"nutrient_levels_tags\"] = x[\"nutrient_levels_tags\"].apply(lambda x: x.split(','))\n",
    "x[\"countries_en\"] = x[\"countries_en\"].apply(lambda x: x.split(',')[0])\n"
   ]
  },
  {
   "cell_type": "code",
   "execution_count": null,
   "metadata": {},
   "outputs": [],
   "source": [
    "x[\"nutriscore_grade\"].value_counts()"
   ]
  },
  {
   "cell_type": "code",
   "execution_count": null,
   "metadata": {},
   "outputs": [],
   "source": [
    "X_train, Y_train, X_pred, Y_pred = train_test_split(x, y, test_size= 0.25, random_state=27)"
   ]
  },
  {
   "cell_type": "code",
   "execution_count": null,
   "metadata": {},
   "outputs": [],
   "source": [
    "X_train.head(5)"
   ]
  },
  {
   "cell_type": "code",
   "execution_count": null,
   "metadata": {},
   "outputs": [],
   "source": []
  },
  {
   "cell_type": "code",
   "execution_count": null,
   "metadata": {},
   "outputs": [],
   "source": [
    "# pca_transformer = PCA(n_components=3)\n",
    "\n",
    "# pca_transformer.fit(X_train)\n",
    "# pca_transformer.fit(X_pred)\n",
    "\n",
    "# test_labels = pca_transformer.transform(X_train)\n",
    "# train_labels = pca_transformer.transform(X_pred)"
   ]
  },
  {
   "cell_type": "code",
   "execution_count": null,
   "metadata": {},
   "outputs": [],
   "source": [
    "\n",
    "#pattern = r'[^0-9\\.]'\n",
    "#data['ingredients_tags'] = data['ingredients_tags'].apply(lambda x: re.sub(pattern, '', str(x)))\n",
    "# data['ingredients_tags'] = pd.to_numeric(data['ingredients_tags'])"
   ]
  }
 ],
 "metadata": {
  "kernelspec": {
   "display_name": "env",
   "language": "python",
   "name": "python3"
  },
  "language_info": {
   "codemirror_mode": {
    "name": "ipython",
    "version": 3
   },
   "file_extension": ".py",
   "mimetype": "text/x-python",
   "name": "python",
   "nbconvert_exporter": "python",
   "pygments_lexer": "ipython3",
   "version": "3.10.6"
  },
  "orig_nbformat": 4
 },
 "nbformat": 4,
 "nbformat_minor": 2
}
